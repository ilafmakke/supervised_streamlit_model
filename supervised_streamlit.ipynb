{
  "nbformat": 4,
  "nbformat_minor": 0,
  "metadata": {
    "colab": {
      "provenance": [],
      "toc_visible": true,
      "authorship_tag": "ABX9TyPPn7vzRFeuM2POAGnMIocF",
      "include_colab_link": true
    },
    "kernelspec": {
      "name": "python3",
      "display_name": "Python 3"
    },
    "language_info": {
      "name": "python"
    }
  },
  "cells": [
    {
      "cell_type": "markdown",
      "metadata": {
        "id": "view-in-github",
        "colab_type": "text"
      },
      "source": [
        "<a href=\"https://colab.research.google.com/github/ilafmakke/supervised_streamlit_model/blob/main/supervised_streamlit.ipynb\" target=\"_parent\"><img src=\"https://colab.research.google.com/assets/colab-badge.svg\" alt=\"Open In Colab\"/></a>"
      ]
    },
    {
      "cell_type": "code",
      "execution_count": null,
      "metadata": {
        "id": "WQ1zEBwzqVMu"
      },
      "outputs": [],
      "source": [
        "!pip install streamlit -q"
      ]
    },
    {
      "cell_type": "code",
      "source": [
        "%%writefile app.py\n",
        "import streamlit as st\n",
        "st.write('hi my nemjjhhfytd')\n",
        "st.write('########run streamlitebjhvuyg')"
      ],
      "metadata": {
        "colab": {
          "base_uri": "https://localhost:8080/"
        },
        "id": "qRSiiaz_IsCd",
        "outputId": "4b9d0317-2bb9-4664-d1b4-7be2404aea07"
      },
      "execution_count": null,
      "outputs": [
        {
          "output_type": "stream",
          "name": "stdout",
          "text": [
            "Overwriting app.py\n"
          ]
        }
      ]
    },
    {
      "cell_type": "code",
      "source": [
        "import streamlit as st\n",
        "import pandas as pd\n",
        "from sklearn.linear_model import LinearRegression # Replace with your ML package\n"
      ],
      "metadata": {
        "id": "sdo2gBMMqjml"
      },
      "execution_count": null,
      "outputs": []
    },
    {
      "cell_type": "code",
      "source": [
        "%%writefile app.py\n",
        "import streamlit as st\n",
        "import pandas as pd\n",
        "import os\n",
        "from sklearn.preprocessing import LabelEncoder\n",
        "from sklearn.linear_model import LinearRegression\n",
        "from sklearn.svm import SVC\n",
        "from sklearn.neighbors import KNeighborsClassifier\n",
        "from sklearn.tree import DecisionTreeClassifier\n",
        "from sklearn.ensemble import RandomForestClassifier\n",
        "from sklearn.preprocessing import PolynomialFeatures\n",
        "from sklearn.pipeline import make_pipeline\n",
        "from xgboost import XGBClassifier\n",
        "from sklearn.metrics import accuracy_score, recall_score, precision_score\n",
        "\n",
        "class MLWebApp:\n",
        "    def __init__(self):\n",
        "        self.models = {\n",
        "            \"Linear Regression\": LinearRegression(),\n",
        "            \"Support Vector Machine\": SVC(),\n",
        "            \"k-Nearest Neighbors\": KNeighborsClassifier(),\n",
        "            \"Decision Tree\": DecisionTreeClassifier(),\n",
        "            \"Random Forest\": RandomForestClassifier(),\n",
        "            \"Polynomial Regression\": make_pipeline(PolynomialFeatures(degree=2), LinearRegression()),\n",
        "            \"XGBoost\": XGBClassifier()\n",
        "            # Add more models here\n",
        "        }\n",
        "\n",
        "    def train_models(self, data, target_variable, selected_models):\n",
        "        results = []\n",
        "        predictions = {}  # Store predictions for each model\n",
        "\n",
        "        for model_name, model in self.models.items():\n",
        "            if model_name in selected_models:\n",
        "                X = data.drop(columns=[target_variable])\n",
        "                y = data[target_variable]\n",
        "\n",
        "                # Train the model\n",
        "                model.fit(X, y)\n",
        "\n",
        "                # Make predictions\n",
        "                y_pred = model.predict(X)\n",
        "                predictions[model_name] = y_pred\n",
        "\n",
        "                # Calculate metrics\n",
        "                accuracy = accuracy_score(y, y_pred)\n",
        "                recall = recall_score(y, y_pred, average='weighted')\n",
        "                precision = precision_score(y, y_pred, average='weighted')\n",
        "\n",
        "                results.append({\n",
        "                    \"Model\": model_name,\n",
        "                    \"Accuracy\": accuracy,\n",
        "                    \"Recall\": recall,\n",
        "                    \"Precision\": precision\n",
        "                })\n",
        "\n",
        "        return results, predictions\n",
        "\n",
        "    def label_encode_string_columns(self, data):\n",
        "        # Iterate through columns and apply LabelEncoder to string columns\n",
        "        label_encoder = LabelEncoder()\n",
        "        for column in data.columns:\n",
        "            if data[column].dtype == 'object':\n",
        "                data[column] = label_encoder.fit_transform(data[column])\n",
        "\n",
        "    def run(self):\n",
        "        st.title(\"Machine Learning Web App\")\n",
        "\n",
        "        # Initialize the data variable\n",
        "        data = None\n",
        "\n",
        "        # Upload data\n",
        "        uploaded_file = st.file_uploader(\"Upload your data (CSV, Excel, etc.)\", type=[\"csv\", \"xlsx\", \"xls\", \"json\"])\n",
        "\n",
        "        if uploaded_file:\n",
        "            file_extension = os.path.splitext(uploaded_file.name)[1]\n",
        "\n",
        "            if file_extension == \".csv\":\n",
        "                data = pd.read_csv(uploaded_file)\n",
        "            elif file_extension in [\".xlsx\", \".xls\"]:\n",
        "                data = pd.read_excel(uploaded_file)\n",
        "            elif file_extension == \".json\":\n",
        "                data = pd.read_json(uploaded_file)\n",
        "\n",
        "        if data is not None:\n",
        "            # Label encode string columns\n",
        "            self.label_encode_string_columns(data)\n",
        "\n",
        "            target_variable = st.selectbox(\"Select the target variable\", data.columns)\n",
        "\n",
        "            # Select machine learning models\n",
        "            models_to_consider = st.multiselect(\"Select machine learning models to consider\", self.models.keys())\n",
        "\n",
        "            if st.button(\"Train Models\"):\n",
        "                results, predictions = self.train_models(data, target_variable, models_to_consider)\n",
        "                st.subheader(\"Model Metrics\")\n",
        "                results_df = pd.DataFrame(results)\n",
        "                st.table(results_df)\n",
        "\n",
        "                # Find the best model based on accuracy less than 1\n",
        "                best_model = max(results, key=lambda x: x[\"Accuracy\"] if x[\"Accuracy\"] < 1 else 0)\n",
        "\n",
        "                # Display best model information\n",
        "                st.subheader(\"Best Model\")\n",
        "                if best_model[\"Model\"]:\n",
        "                    st.write(f\"Best Model: {best_model['Model']}\")\n",
        "                    if best_model[\"Precision\"] < 1:\n",
        "                        st.write(f\"best Accuracy: {best_model['Accuracy']:.2f}, the other model maybe under fit or over fit\")\n",
        "                else:\n",
        "                    st.warning(\"No suitable models found (all models have precision = 1).\")\n",
        "\n",
        "if __name__ == \"__main__\":\n",
        "    web_app = MLWebApp()\n",
        "    web_app.run()"
      ],
      "metadata": {
        "colab": {
          "base_uri": "https://localhost:8080/"
        },
        "id": "_J-BlD8HqvNP",
        "outputId": "b66e752d-9a7a-42b4-c141-17cdcbc6f482"
      },
      "execution_count": 28,
      "outputs": [
        {
          "output_type": "stream",
          "name": "stdout",
          "text": [
            "Overwriting app.py\n"
          ]
        }
      ]
    },
    {
      "cell_type": "code",
      "source": [
        "!pip install pyngrok"
      ],
      "metadata": {
        "colab": {
          "base_uri": "https://localhost:8080/"
        },
        "id": "SxHa6C4JJDOI",
        "outputId": "d8d86a00-f924-40a6-c0be-4431c9b841e4"
      },
      "execution_count": null,
      "outputs": [
        {
          "output_type": "stream",
          "name": "stdout",
          "text": [
            "Requirement already satisfied: pyngrok in /usr/local/lib/python3.10/dist-packages (6.0.0)\n",
            "Requirement already satisfied: PyYAML in /usr/local/lib/python3.10/dist-packages (from pyngrok) (6.0.1)\n"
          ]
        }
      ]
    },
    {
      "cell_type": "code",
      "source": [
        "from pyngrok import ngrok"
      ],
      "metadata": {
        "id": "RIXNsV1CFa45"
      },
      "execution_count": null,
      "outputs": []
    },
    {
      "cell_type": "code",
      "source": [
        "ngrok.set_auth_token(\"2UzVon3yY9ZNw45sWmgXb1dEhk5_7oApS9zhsh2jd1K3W5TyS\")"
      ],
      "metadata": {
        "id": "GXa8sm6-JTTV"
      },
      "execution_count": null,
      "outputs": []
    },
    {
      "cell_type": "code",
      "source": [
        "!nohup streamlit run app.py --server.port 80 &\n",
        "#http_tunnel = ngrok.connect(proto='http', addr='8080')\n",
        "http_tunnel = ngrok.connect(addr=80)\n",
        "http_tunnel"
      ],
      "metadata": {
        "colab": {
          "base_uri": "https://localhost:8080/"
        },
        "id": "eXi3VtLxJl4-",
        "outputId": "24dd55d8-3ef5-4ee6-a0b4-d99a6263729c"
      },
      "execution_count": null,
      "outputs": [
        {
          "output_type": "stream",
          "name": "stdout",
          "text": [
            "nohup: appending output to 'nohup.out'\n"
          ]
        },
        {
          "output_type": "execute_result",
          "data": {
            "text/plain": [
              "<NgrokTunnel: \"https://4e97-35-236-241-32.ngrok-free.app\" -> \"http://localhost:80\">"
            ]
          },
          "metadata": {},
          "execution_count": 13
        }
      ]
    }
  ]
}